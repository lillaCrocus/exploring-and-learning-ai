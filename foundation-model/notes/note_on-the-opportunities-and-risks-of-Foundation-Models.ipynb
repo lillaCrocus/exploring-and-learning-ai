{
 "cells": [
  {
   "cell_type": "markdown",
   "metadata": {},
   "source": [
    "# Note: On the Opportunities and risks of foundation models\n",
    "Center for Research on Foundation Models (CRFM)Stanford Institute for Human-Centered Artificial Intelligence (HAI)\n",
    "\n",
    "Stanford University"
   ]
  },
  {
   "cell_type": "markdown",
   "metadata": {},
   "source": [
    "## What is foundation model\n",
    "\n",
    "__Foundation model__ is the type of model that trained on broad data that can be adopted to a wide range of downstream "
   ]
  }
 ],
 "metadata": {
  "language_info": {
   "name": "python"
  }
 },
 "nbformat": 4,
 "nbformat_minor": 2
}
