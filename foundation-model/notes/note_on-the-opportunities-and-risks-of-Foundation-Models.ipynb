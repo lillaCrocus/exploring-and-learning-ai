{
 "cells": [
  {
   "cell_type": "markdown",
   "metadata": {},
   "source": [
    "# Note: On the Opportunities and risks of foundation models\n",
    "Center for Research on Foundation Models (CRFM)Stanford Institute for Human-Centered Artificial Intelligence (HAI)\n",
    "\n",
    "Stanford University\n"
   ]
  },
  {
   "cell_type": "code",
   "execution_count": null,
   "metadata": {
    "vscode": {
     "languageId": "plaintext"
    }
   },
   "outputs": [],
   "source": []
  },
  {
   "cell_type": "markdown",
   "metadata": {},
   "source": [
    "## Intro\n",
    "__Foundation model__ is the type of model that trained on broad data that can be adopted to a wide range of downstream.\n",
    "\n",
    "This report covers an emerging paradigm based on foundation model ranging from:\n",
    "1. Capabilities of foundation model\n",
    "2. Technical prinsiples\n",
    "3. Social impacts"
   ]
  },
  {
   "cell_type": "markdown",
   "metadata": {},
   "source": [
    "### 1.1 Emergence and homogenization"
   ]
  },
  {
   "cell_type": "markdown",
   "metadata": {},
   "source": []
  }
 ],
 "metadata": {
  "language_info": {
   "name": "python"
  }
 },
 "nbformat": 4,
 "nbformat_minor": 2
}
