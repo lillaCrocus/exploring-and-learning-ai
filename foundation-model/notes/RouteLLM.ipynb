{
 "cells": [
  {
   "cell_type": "markdown",
   "metadata": {},
   "source": [
    "# Note: RouteLLm - Learning to Route LLMs with PreferenceData\n",
    "UC Berkeley, Canva and Anyscale"
   ]
  },
  {
   "cell_type": "markdown",
   "metadata": {},
   "source": [
    "__In short__: RouteLLM is an approach that use ___router models___ to select between a stronger and a weaker llm during inference. The aim is to balance between cost and quality of responses."
   ]
  }
 ],
 "metadata": {
  "language_info": {
   "name": "python"
  }
 },
 "nbformat": 4,
 "nbformat_minor": 2
}
